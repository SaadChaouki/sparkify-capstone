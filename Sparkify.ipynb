{
 "cells": [
  {
   "cell_type": "markdown",
   "metadata": {},
   "source": [
    "# Sparkify Project Workspace\n",
    "This workspace contains a tiny subset (128MB) of the full dataset available (12GB). Feel free to use this workspace to build your project, or to explore a smaller subset with Spark before deploying your cluster on the cloud. Instructions for setting up your Spark cluster is included in the last lesson of the Extracurricular Spark Course content.\n",
    "\n",
    "You can follow the steps below to guide your data analysis and model building portion of this project."
   ]
  },
  {
   "cell_type": "code",
   "execution_count": 1,
   "metadata": {},
   "outputs": [],
   "source": [
    "# import libraries\n",
    "import pandas as pd\n",
    "from functools import reduce\n",
    "from pyspark.sql import SparkSession\n",
    "from pyspark.sql.types import IntegerType, FloatType\n",
    "from pyspark.sql import functions as F\n",
    "from pyspark.sql.functions import isnan, when, count, col, countDistinct, udf\n",
    "import matplotlib.pyplot as plt\n",
    "\n",
    "from pyspark.ml.feature import VectorAssembler, StandardScaler\n",
    "from pyspark.ml.evaluation import BinaryClassificationEvaluator, MulticlassClassificationEvaluator\n",
    "from pyspark.ml.classification import LogisticRegression, GBTClassifier, RandomForestClassifier, DecisionTreeClassifier\n",
    "\n",
    "from pyspark.ml.tuning import ParamGridBuilder, CrossValidator\n",
    "\n",
    "import random\n",
    "from datetime import datetime\n",
    "import seaborn as sns\n",
    "\n",
    "random.seed(10)\n",
    "sns.set()"
   ]
  },
  {
   "cell_type": "code",
   "execution_count": 2,
   "metadata": {},
   "outputs": [],
   "source": [
    "# create a Spark session\n",
    "spark = SparkSession.builder.appName('Sparkify Project').getOrCreate()"
   ]
  },
  {
   "cell_type": "markdown",
   "metadata": {},
   "source": [
    "# Load and Clean Dataset\n",
    "In this workspace, the mini-dataset file is `mini_sparkify_event_data.json`. Load and clean the dataset, checking for invalid or missing data - for example, records without userids or sessionids. "
   ]
  },
  {
   "cell_type": "code",
   "execution_count": 3,
   "metadata": {},
   "outputs": [],
   "source": [
    "def loadData(spark = spark, path = 'mini_sparkify_event_data.json'):\n",
    "    data = spark.read.json(path)\n",
    "    return data\n",
    "\n",
    "sparkifyData = loadData()"
   ]
  },
  {
   "cell_type": "code",
   "execution_count": 4,
   "metadata": {},
   "outputs": [
    {
     "name": "stdout",
     "output_type": "stream",
     "text": [
      "root\n",
      " |-- artist: string (nullable = true)\n",
      " |-- auth: string (nullable = true)\n",
      " |-- firstName: string (nullable = true)\n",
      " |-- gender: string (nullable = true)\n",
      " |-- itemInSession: long (nullable = true)\n",
      " |-- lastName: string (nullable = true)\n",
      " |-- length: double (nullable = true)\n",
      " |-- level: string (nullable = true)\n",
      " |-- location: string (nullable = true)\n",
      " |-- method: string (nullable = true)\n",
      " |-- page: string (nullable = true)\n",
      " |-- registration: long (nullable = true)\n",
      " |-- sessionId: long (nullable = true)\n",
      " |-- song: string (nullable = true)\n",
      " |-- status: long (nullable = true)\n",
      " |-- ts: long (nullable = true)\n",
      " |-- userAgent: string (nullable = true)\n",
      " |-- userId: string (nullable = true)\n",
      "\n"
     ]
    }
   ],
   "source": [
    "sparkifyData.printSchema()"
   ]
  },
  {
   "cell_type": "code",
   "execution_count": 5,
   "metadata": {},
   "outputs": [
    {
     "name": "stdout",
     "output_type": "stream",
     "text": [
      "+------+----+---------+------+-------------+--------+------+-----+--------+------+----+------------+---------+-----+------+---+---------+------+\n",
      "|artist|auth|firstName|gender|itemInSession|lastName|length|level|location|method|page|registration|sessionId| song|status| ts|userAgent|userId|\n",
      "+------+----+---------+------+-------------+--------+------+-----+--------+------+----+------------+---------+-----+------+---+---------+------+\n",
      "| 58392|   0|     8346|  8346|            0|    8346| 58392|    0|    8346|     0|   0|        8346|        0|58392|     0|  0|     8346|     0|\n",
      "+------+----+---------+------+-------------+--------+------+-----+--------+------+----+------------+---------+-----+------+---+---------+------+\n",
      "\n"
     ]
    }
   ],
   "source": [
    "# Count null values per column\n",
    "sparkifyData.select([count(when(col(var).isNull(), var)).alias(var) for var in sparkifyData.columns]).show()"
   ]
  },
  {
   "cell_type": "code",
   "execution_count": 6,
   "metadata": {},
   "outputs": [
    {
     "data": {
      "text/plain": [
       "8346"
      ]
     },
     "execution_count": 6,
     "metadata": {},
     "output_type": "execute_result"
    }
   ],
   "source": [
    "# Counting the number of rows without a user\n",
    "sparkifyData.filter(\"userId = ''\").count()"
   ]
  },
  {
   "cell_type": "code",
   "execution_count": 7,
   "metadata": {},
   "outputs": [],
   "source": [
    "# Removing the rows where there is no user id\n",
    "sparkifyData = sparkifyData.filter(\"userId != ''\")"
   ]
  },
  {
   "cell_type": "code",
   "execution_count": 8,
   "metadata": {},
   "outputs": [
    {
     "name": "stdout",
     "output_type": "stream",
     "text": [
      "+------+----+---------+------+-------------+--------+------+-----+--------+------+----+------------+---------+-----+------+---+---------+------+\n",
      "|artist|auth|firstName|gender|itemInSession|lastName|length|level|location|method|page|registration|sessionId| song|status| ts|userAgent|userId|\n",
      "+------+----+---------+------+-------------+--------+------+-----+--------+------+----+------------+---------+-----+------+---+---------+------+\n",
      "| 50046|   0|        0|     0|            0|       0| 50046|    0|       0|     0|   0|           0|        0|50046|     0|  0|        0|     0|\n",
      "+------+----+---------+------+-------------+--------+------+-----+--------+------+----+------------+---------+-----+------+---+---------+------+\n",
      "\n"
     ]
    }
   ],
   "source": [
    "# Count null values per column\n",
    "sparkifyData.select([count(when(col(var).isNull(), var)).alias(var) for var in sparkifyData.columns]).show()"
   ]
  },
  {
   "cell_type": "markdown",
   "metadata": {},
   "source": [
    "**Comment:**\n",
    "Removing the rows without a user ID removed the rows that had null values previously. The rows that still have null values are actions that are not related to specific songs, therefore, no song title, artiste, or length is available. These columns won't be used for our predictions therefore we will ignore them for now. "
   ]
  },
  {
   "cell_type": "markdown",
   "metadata": {},
   "source": [
    "# Exploratory Data Analysis\n",
    "When you're working with the full dataset, perform EDA by loading a small subset of the data and doing basic manipulations within Spark. In this workspace, you are already provided a small subset of data you can explore.\n",
    "\n",
    "### Define Churn\n",
    "\n",
    "Once you've done some preliminary analysis, create a column `Churn` to use as the label for your model. I suggest using the `Cancellation Confirmation` events to define your churn, which happen for both paid and free users. As a bonus task, you can also look into the `Downgrade` events.\n",
    "\n",
    "### Explore Data\n",
    "Once you've defined churn, perform some exploratory data analysis to observe the behavior for users who stayed vs users who churned. You can start by exploring aggregates on these two groups of users, observing how much of a specific action they experienced per a certain time unit or number of songs played."
   ]
  },
  {
   "cell_type": "code",
   "execution_count": 9,
   "metadata": {},
   "outputs": [
    {
     "name": "stdout",
     "output_type": "stream",
     "text": [
      "Total number of distinct users: 225\n"
     ]
    }
   ],
   "source": [
    "print(f'Total number of distinct users: {sparkifyData.agg(countDistinct(col(\"userId\")).alias(\"count\")).toPandas()[\"count\"][0]}')"
   ]
  },
  {
   "cell_type": "code",
   "execution_count": 10,
   "metadata": {},
   "outputs": [],
   "source": [
    "# Defining churn\n",
    "defineChurn = udf(lambda x: 1 if x == 'Cancellation Confirmation' else 0, IntegerType())\n",
    "sparkifyData = sparkifyData.withColumn('churn', defineChurn(sparkifyData.page))"
   ]
  },
  {
   "cell_type": "code",
   "execution_count": 11,
   "metadata": {},
   "outputs": [],
   "source": [
    "# Transforming timestamps into dates and week numbers.\n",
    "getDate = udf(lambda x: datetime.fromtimestamp(x / 1000.0).strftime(\"%Y-%m-%d\"))\n",
    "getWeek = udf(lambda x: datetime.fromtimestamp(x / 1000.0).isocalendar()[1], IntegerType())\n",
    "getChurnWeek = udf(lambda x, y: datetime.fromtimestamp(x / 1000.0).isocalendar()[1] \n",
    "                   if y == 'Cancellation Confirmation' else 0 , IntegerType())\n",
    "\n",
    "sparkifyData = sparkifyData.withColumn('dataWeek', getWeek(sparkifyData.ts))\n",
    "sparkifyData = sparkifyData.withColumn('registrationWeek', getWeek(sparkifyData.registration))\n",
    "sparkifyData = sparkifyData.withColumn('churnWeek', getChurnWeek(sparkifyData.ts, sparkifyData.page))"
   ]
  },
  {
   "cell_type": "code",
   "execution_count": 12,
   "metadata": {},
   "outputs": [],
   "source": [
    "# Grouping data by users\n",
    "usersData = sparkifyData.groupBy('userId').agg(\n",
    "    F.max('Gender').alias('gender'),\n",
    "    F.max('registrationWeek').alias('registrationWeek'),\n",
    "    F.sum('churn').alias('churn'),\n",
    "    F.max('churnWeek').alias('churnWeek'),\n",
    "    F.min('dataWeek').alias('minDataWeek'),\n",
    "    F.max('dataWeek').alias('maxDataWeek'),\n",
    "    F.countDistinct('dataWeek').alias('distinctWeekData')\n",
    ")"
   ]
  },
  {
   "cell_type": "code",
   "execution_count": 13,
   "metadata": {},
   "outputs": [],
   "source": [
    "# Data visualisation - users data\n",
    "summaryData = usersData.toPandas()\n",
    "summaryData['weeksSinceRegistered'] = summaryData['maxDataWeek'] - summaryData['registrationWeek']"
   ]
  },
  {
   "cell_type": "code",
   "execution_count": 14,
   "metadata": {},
   "outputs": [
    {
     "data": {
      "image/png": "[encoded data removed]",
      "text/plain": [
       "<matplotlib.figure.Figure at 0x7f361b798358>"
      ]
     },
     "metadata": {
      "needs_background": "light"
     },
     "output_type": "display_data"
    }
   ],
   "source": [
    "fig, axs = plt.subplots(1,2)\n",
    "fig.set_figheight(4)\n",
    "fig.set_figwidth(16)\n",
    "\n",
    "# Data Visualisation\n",
    "churnData = summaryData.groupby('churn').size()\n",
    "weeksData = summaryData.groupby('churn').agg('weeksSinceRegistered').mean()\n",
    "churnGenderData = summaryData.groupby(['churn', 'gender']).size()\n",
    "\n",
    "# Plot\n",
    "axs[0].set_title('Churn');\n",
    "sns.barplot(x = churnData.index, y = churnData.values, ax = axs[0]);\n",
    "axs[1].set_title('Average Weeks Since Registered');\n",
    "sns.barplot(x = weeksData.index, y = weeksData.values, ax = axs[1]);"
   ]
  },
  {
   "cell_type": "code",
   "execution_count": 16,
   "metadata": {},
   "outputs": [],
   "source": [
    "# Data visualisation - Views of pages and timeframe\n",
    "pagesViews = sparkifyData.groupby('page').count().toPandas().sort_values(by = 'count', ascending = False)\n",
    "weeklyActions = sparkifyData.groupBy('dataWeek').count().toPandas().sort_values(by = 'dataWeek', ascending = True)"
   ]
  },
  {
   "cell_type": "code",
   "execution_count": 17,
   "metadata": {},
   "outputs": [
    {
     "data": {
      "image/png": "[encoded data removed]",
      "text/plain": [
       "<matplotlib.figure.Figure at 0x7f36193ed5f8>"
      ]
     },
     "metadata": {
      "needs_background": "light"
     },
     "output_type": "display_data"
    }
   ],
   "source": [
    "fig, axs = plt.subplots(1,2)\n",
    "fig.set_figheight(4)\n",
    "fig.set_figwidth(16)\n",
    "\n",
    "# Plot\n",
    "axs[0].set_title('Pages Views')\n",
    "sns.barplot(x = pagesViews.page[:7], y = pagesViews['count'], ax = axs[0]);\n",
    "axs[1].set_title('Total actions per week');\n",
    "sns.barplot(x = weeklyActions.dataWeek, y = weeklyActions['count'], ax = axs[1]);"
   ]
  },
  {
   "cell_type": "markdown",
   "metadata": {},
   "source": [
    "Because I will be creating an app for data visualisation, I'm limiting the data visualisation in this part as this will be done in the app."
   ]
  },
  {
   "cell_type": "code",
   "execution_count": 18,
   "metadata": {},
   "outputs": [],
   "source": [
    "# Total churn per week - Unique Sessions per week - Active users per week\n",
    "weeklyData = sparkifyData.groupBy('dataWeek').agg(\n",
    "        countDistinct(col(\"userId\")).alias(\"uniqueUsers\"),\n",
    "        countDistinct(col(\"sessionId\")).alias(\"uniqueSessions\"),\n",
    "        F.sum(col(\"churn\")).alias(\"totalChurn\")\n",
    ").toPandas().sort_values(by=\"dataWeek\")"
   ]
  },
  {
   "cell_type": "code",
   "execution_count": 19,
   "metadata": {},
   "outputs": [],
   "source": [
    "# Save Datasets\n",
    "weeklyData.to_csv('weeklyData.csv', index = False)"
   ]
  },
  {
   "cell_type": "markdown",
   "metadata": {},
   "source": [
    "# Feature Engineering\n",
    "Once you've familiarized yourself with the data, build out the features you find promising to train your model on. To work with the full dataset, you can follow the following steps.\n",
    "- Write a script to extract the necessary features from the smaller subset of data\n",
    "- Ensure that your script is scalable, using the best practices discussed in Lesson 3\n",
    "- Try your script on the full data set, debugging your script if necessary\n",
    "\n",
    "If you are working in the classroom workspace, you can just extract features based on the small subset of data contained here. Be sure to transfer over this work to the larger dataset when you work on your Spark cluster.\n",
    "\n",
    "#### Feature Engineering Logic\n",
    "Because the data that we have is on a action level (what a user is doing) and we need to make our predictions on a user level, we need to aggregate it. \n",
    "\n",
    "Directly aggregating the data will create a bias in the model as it is likely that users who churned will have less data and actions. Therefore, we need to find a comparable base for all users to train the model on.\n",
    "\n",
    "The goal of this feature engineering is to build a set of features that show behaviour of users before they left. We will be using the change of behaviour from one week to the other before each user left.\n",
    "\n",
    "If a user left in Week 3, we will be aggregating behaviour in Week 1 and Week 2 and then computing the change to try and predict if a user is likely to leave in week 3.\n",
    "\n",
    "To be able to compare users who left to users who did not, I will be using the same logic for the users who did not. However, instead of having the churn week as the base, I will select a random week for the users and then compute the change.\n",
    "\n",
    "***Limitations***\n",
    "\n",
    "One limitation of this methodology is that we will need a minimum of 3 weeks data for every user. The two first weeks to create the features and the third week to find if a user churned or not. Therefore, I will remove the users that we do not have enough data for. To really measure the impact that this will have on the number of data points we will remove, we need to test it on the large dataset.\n"
   ]
  },
  {
   "cell_type": "code",
   "execution_count": 20,
   "metadata": {},
   "outputs": [],
   "source": [
    "# Filter on users that we have enough data for\n",
    "usersData = usersData.filter('distinctWeekData > 2')"
   ]
  },
  {
   "cell_type": "code",
   "execution_count": 21,
   "metadata": {},
   "outputs": [],
   "source": [
    "# Create selection date. For each user, if they left we set the churn week as the selection week. If not, a random week is\n",
    "# selected within the weeks that we have for that user.\n",
    "setSelectionDate = udf(lambda x, y, z: x if x != 0 else random.randint(y + 2, z))\n",
    "usersData = usersData.withColumn('dateSelection', setSelectionDate(usersData.churnWeek, usersData.minDataWeek, \n",
    "                                                                   usersData.maxDataWeek))"
   ]
  },
  {
   "cell_type": "code",
   "execution_count": 22,
   "metadata": {},
   "outputs": [],
   "source": [
    "# Select the data that we need only\n",
    "usersData = usersData.withColumn('weeksRegistered', usersData.dateSelection - usersData.registrationWeek)\n",
    "usersData = usersData.select(['userId', 'gender', 'weeksRegistered', 'churn', 'dateSelection'])"
   ]
  },
  {
   "cell_type": "code",
   "execution_count": 23,
   "metadata": {},
   "outputs": [],
   "source": [
    "# Dummy variables the pages\n",
    "pages = ['Thumbs Down', 'Add to Playlist', 'Add Friend', 'Thumbs Up', 'Help', 'Upgrade', 'Error', 'Submit Upgrade']\n",
    "exprs = [F.when(F.col(\"page\") == page, 1).otherwise(0).alias(page) for page in pages]\n",
    "dummyData = sparkifyData.select(\"*\", *exprs)\n",
    "\n",
    "# Computing weekly data per user and per week. Aggregating per week will allow me to select the metrics for the weeks \n",
    "# selected for each user.\n",
    "weeklyData = dummyData.groupBy(['userId', 'dataWeek']).agg(\n",
    "    countDistinct('sessionId').alias('distinctSession'), \n",
    "    countDistinct('song').alias('distinctSongs'),\n",
    "    F.sum('length').alias('listenTime'),\n",
    "    F.sum('Thumbs Down').alias('thumbsDown'),\n",
    "    F.sum('Add to Playlist').alias('addToPlaylist'),\n",
    "    F.sum('Add Friend').alias('addFriend'),\n",
    "    F.sum('Thumbs Up').alias('thumbsUp'),\n",
    "    F.sum('Help').alias('help'),\n",
    "    F.sum('Error').alias('error'),\n",
    "    F.sum('Submit Upgrade').alias('submitUpgrade')\n",
    ")"
   ]
  },
  {
   "cell_type": "code",
   "execution_count": 24,
   "metadata": {},
   "outputs": [],
   "source": [
    "# Creating names to differentiate between the first and second week.\n",
    "originalNames = weeklyData.columns\n",
    "weekOneColumns = [str(col) + '_weekOne' for col in weeklyData.columns]\n",
    "weekTwoColumns = [str(col) + '_weekTwo' for col in weeklyData.columns]"
   ]
  },
  {
   "cell_type": "code",
   "execution_count": 25,
   "metadata": {},
   "outputs": [],
   "source": [
    "# Setting Alias\n",
    "usersData = usersData.alias('users')\n",
    "\n",
    "# Updating column names for the first join\n",
    "weekOneData = reduce(lambda weeklyData, idx: weeklyData.withColumnRenamed(originalNames[idx], weekOneColumns[idx]), \n",
    "                     range(len(originalNames)), weeklyData)\n",
    "\n",
    "# Joining\n",
    "joinWeekOne = usersData.join(weekOneData, (usersData.userId == weekOneData.userId_weekOne) & \n",
    "                             (usersData.dateSelection - 2 == weekOneData.dataWeek_weekOne), how = 'left'\n",
    "                            ).drop('userId_weekOne','dataWeek_weekOne')\n",
    "\n",
    "# Updating column names for the first join\n",
    "weekTwoData = reduce(lambda weeklyData, idx: weeklyData.withColumnRenamed(originalNames[idx], weekTwoColumns[idx]), \n",
    "                     range(len(originalNames)), weeklyData)\n",
    "\n",
    "# Joining\n",
    "joinedDataSet = joinWeekOne.join(weekTwoData, (joinWeekOne.userId == weekTwoData.userId_weekTwo) & \n",
    "                             (joinWeekOne.dateSelection - 1 == weekTwoData.dataWeek_weekTwo), how = 'left'\n",
    "                            ).drop('userId_weekTwo','dataWeek_weekTwo')\n",
    "\n",
    "# We'll assume that null values in here mean that there was no activity by the user. Filling with 0\n",
    "joinedDataSet = joinedDataSet.na.fill(0)"
   ]
  },
  {
   "cell_type": "code",
   "execution_count": 26,
   "metadata": {},
   "outputs": [],
   "source": [
    "# Create function to compute change\n",
    "def changeCalculation(start, end):\n",
    "    if start == end:\n",
    "        return float(0)\n",
    "    elif start == 0 and end > 0:\n",
    "        return float(1.0)\n",
    "    else:\n",
    "        return float((end - start)/start)\n",
    "\n",
    "# Calculating change of columns\n",
    "computeChange = udf(lambda start,end: changeCalculation(start, end), FloatType())\n",
    "for column in originalNames:\n",
    "    if column in ['userId', 'dataWeek']: continue\n",
    "    # Create the new column and drop originals\n",
    "    joinedDataSet = joinedDataSet.withColumn(column+'Change', computeChange(col(column+'_weekTwo'), col(column+'_weekOne')))\\\n",
    "                                .drop(column+'_weekOne', column+'_weekTwo')"
   ]
  },
  {
   "cell_type": "code",
   "execution_count": 27,
   "metadata": {},
   "outputs": [],
   "source": [
    "# Map gender to 0 and 1.\n",
    "mapGender = udf(lambda x: 1 if x == 'F' else 0, IntegerType())\n",
    "joinedDataSet = joinedDataSet.withColumn('genderMap', mapGender(joinedDataSet.gender))"
   ]
  },
  {
   "cell_type": "code",
   "execution_count": 28,
   "metadata": {},
   "outputs": [],
   "source": [
    "# Removing columns not to be used.\n",
    "joinedDataSet = joinedDataSet.drop('weeksRegistered', 'dateSelection', 'gender', 'userId')"
   ]
  },
  {
   "cell_type": "code",
   "execution_count": 29,
   "metadata": {},
   "outputs": [],
   "source": [
    "# Compute change\n",
    "finalDataStats = joinedDataSet.groupBy('churn').mean().toPandas()"
   ]
  },
  {
   "cell_type": "code",
   "execution_count": 30,
   "metadata": {},
   "outputs": [
    {
     "data": {
      "text/html": [
       "<div>\n",
       "<style scoped>\n",
       "    .dataframe tbody tr th:only-of-type {\n",
       "        vertical-align: middle;\n",
       "    }\n",
       "\n",
       "    .dataframe tbody tr th {\n",
       "        vertical-align: top;\n",
       "    }\n",
       "\n",
       "    .dataframe thead th {\n",
       "        text-align: right;\n",
       "    }\n",
       "</style>\n",
       "<table border=\"1\" class=\"dataframe\">\n",
       "  <thead>\n",
       "    <tr style=\"text-align: right;\">\n",
       "      <th></th>\n",
       "      <th>churn</th>\n",
       "      <th>avg(distinctSessionChange)</th>\n",
       "      <th>avg(distinctSongsChange)</th>\n",
       "      <th>avg(listenTimeChange)</th>\n",
       "      <th>avg(thumbsDownChange)</th>\n",
       "      <th>avg(addToPlaylistChange)</th>\n",
       "      <th>avg(addFriendChange)</th>\n",
       "      <th>avg(thumbsUpChange)</th>\n",
       "      <th>avg(helpChange)</th>\n",
       "      <th>avg(errorChange)</th>\n",
       "      <th>avg(submitUpgradeChange)</th>\n",
       "      <th>avg(genderMap)</th>\n",
       "    </tr>\n",
       "  </thead>\n",
       "  <tbody>\n",
       "    <tr>\n",
       "      <th>0</th>\n",
       "      <td>0</td>\n",
       "      <td>0.206662</td>\n",
       "      <td>1.063148</td>\n",
       "      <td>1.040300</td>\n",
       "      <td>0.212923</td>\n",
       "      <td>0.313775</td>\n",
       "      <td>0.049006</td>\n",
       "      <td>0.433309</td>\n",
       "      <td>0.071688</td>\n",
       "      <td>-0.012821</td>\n",
       "      <td>0.057692</td>\n",
       "      <td>0.487179</td>\n",
       "    </tr>\n",
       "    <tr>\n",
       "      <th>1</th>\n",
       "      <td>1</td>\n",
       "      <td>0.148842</td>\n",
       "      <td>0.535936</td>\n",
       "      <td>0.574203</td>\n",
       "      <td>0.040237</td>\n",
       "      <td>0.459896</td>\n",
       "      <td>0.465648</td>\n",
       "      <td>0.336325</td>\n",
       "      <td>0.204204</td>\n",
       "      <td>0.027027</td>\n",
       "      <td>0.135135</td>\n",
       "      <td>0.432432</td>\n",
       "    </tr>\n",
       "  </tbody>\n",
       "</table>\n",
       "</div>"
      ],
      "text/plain": [
       "   churn  avg(distinctSessionChange)  avg(distinctSongsChange)  \\\n",
       "0      0                    0.206662                  1.063148   \n",
       "1      1                    0.148842                  0.535936   \n",
       "\n",
       "   avg(listenTimeChange)  avg(thumbsDownChange)  avg(addToPlaylistChange)  \\\n",
       "0               1.040300               0.212923                  0.313775   \n",
       "1               0.574203               0.040237                  0.459896   \n",
       "\n",
       "   avg(addFriendChange)  avg(thumbsUpChange)  avg(helpChange)  \\\n",
       "0              0.049006             0.433309         0.071688   \n",
       "1              0.465648             0.336325         0.204204   \n",
       "\n",
       "   avg(errorChange)  avg(submitUpgradeChange)  avg(genderMap)  \n",
       "0         -0.012821                  0.057692        0.487179  \n",
       "1          0.027027                  0.135135        0.432432  "
      ]
     },
     "execution_count": 30,
     "metadata": {},
     "output_type": "execute_result"
    }
   ],
   "source": [
    "finalDataStats.drop('avg(churn)', axis = 1)"
   ]
  },
  {
   "cell_type": "markdown",
   "metadata": {},
   "source": [
    "# Modeling\n",
    "Split the full dataset into train, test, and validation sets. Test out several of the machine learning methods you learned. Evaluate the accuracy of the various models, tuning parameters as necessary. Determine your winning model based on test accuracy and report results on the validation set. Since the churned users are a fairly small subset, I suggest using F1 score as the metric to optimize."
   ]
  },
  {
   "cell_type": "code",
   "execution_count": 31,
   "metadata": {},
   "outputs": [],
   "source": [
    "# Define features and target\n",
    "features = ['distinctSessionChange', 'distinctSongsChange', 'listenTimeChange', 'thumbsDownChange', \n",
    "            'addToPlaylistChange', 'addFriendChange', 'thumbsUpChange', 'helpChange', 'errorChange', \n",
    "            'submitUpgradeChange', 'genderMap']\n",
    "\n",
    "# Features\n",
    "assembler = VectorAssembler(inputCols=features, outputCol=\"modelFeatures\")\n",
    "transformedDataSet = assembler.transform(joinedDataSet)\n",
    "\n",
    "# Scaling\n",
    "scaler = StandardScaler(inputCol=\"modelFeatures\", outputCol=\"features\", withStd=True)\n",
    "scalerModel = scaler.fit(transformedDataSet)\n",
    "scaledData = scalerModel.transform(transformedDataSet)\n",
    "\n",
    "# Select columns\n",
    "sparkifyModifiedData = scaledData.select(col('churn').alias('label'), col('features'))"
   ]
  },
  {
   "cell_type": "code",
   "execution_count": 32,
   "metadata": {},
   "outputs": [
    {
     "name": "stdout",
     "output_type": "stream",
     "text": [
      "Training shape 142\n",
      "Testing shape 28\n",
      "Validation shape 29\n"
     ]
    }
   ],
   "source": [
    "# split the full dataset into training and testing sets\n",
    "trainData, testData, validationData = sparkifyModifiedData.randomSplit([0.70, 0.15, 0.15], seed=42)\n",
    "\n",
    "# display shape of datasets\n",
    "print(f'Training shape {trainData.count()}')\n",
    "print(f'Testing shape {testData.count()}')\n",
    "print(f'Validation shape {validationData.count()}')"
   ]
  },
  {
   "cell_type": "code",
   "execution_count": 33,
   "metadata": {},
   "outputs": [
    {
     "name": "stdout",
     "output_type": "stream",
     "text": [
      "Training Logistic Regression\n",
      "Training Decision Tree Classifier\n",
      "Training Random Forest Classifier\n",
      "GBT Classifier\n"
     ]
    }
   ],
   "source": [
    "# Logistic Regression\n",
    "print('Training Logistic Regression')\n",
    "modelLR = LogisticRegression(featuresCol = 'features', labelCol = 'label', maxIter=10)\n",
    "modelLR = modelLR.fit(trainData)\n",
    "\n",
    "# Decision Trees\n",
    "print('Training Decision Tree Classifier')\n",
    "modelDT = DecisionTreeClassifier(featuresCol = 'features', labelCol = 'label')\n",
    "modelDT = modelDT.fit(trainData)\n",
    "\n",
    "# Random Forest\n",
    "print('Training Random Forest Classifier')\n",
    "modelRF = RandomForestClassifier(featuresCol = 'features', labelCol = 'label')\n",
    "modelRF = modelRF.fit(trainData)\n",
    "\n",
    "# Gradient Boosting Trees\n",
    "print('GBT Classifier')\n",
    "modelGBT = GBTClassifier(featuresCol = 'features', labelCol = 'label')\n",
    "modelGBT = modelGBT.fit(trainData)"
   ]
  },
  {
   "cell_type": "code",
   "execution_count": 34,
   "metadata": {},
   "outputs": [],
   "source": [
    "def evaluateModels(models, trainingSet, validationSet):\n",
    "    f1Scorer = MulticlassClassificationEvaluator(metricName='f1')\n",
    "    for model in models:\n",
    "        print(model.__class__.__name__)\n",
    "        trainPredictions = model.transform(trainingSet)\n",
    "        validationPredictions = model.transform(validationSet)\n",
    "        print('F1 Score Training: ', f1Scorer.evaluate(trainPredictions))\n",
    "        print('F1 Score Validation: ', f1Scorer.evaluate(validationPredictions))"
   ]
  },
  {
   "cell_type": "code",
   "execution_count": 35,
   "metadata": {},
   "outputs": [
    {
     "name": "stdout",
     "output_type": "stream",
     "text": [
      "LogisticRegressionModel\n",
      "F1 Score Training:  0.7643027888446214\n",
      "F1 Score Validation:  0.8034782608695652\n",
      "DecisionTreeClassificationModel\n",
      "F1 Score Training:  0.7553865391839529\n",
      "F1 Score Validation:  0.7625994694960212\n",
      "RandomForestClassificationModel\n",
      "F1 Score Training:  0.7958527290778625\n",
      "F1 Score Validation:  0.6248447204968944\n",
      "GBTClassificationModel\n",
      "F1 Score Training:  0.8705035971223022\n",
      "F1 Score Validation:  0.8518518518518519\n"
     ]
    }
   ],
   "source": [
    "# Evaluation the model on the validation set\n",
    "evaluateModels([modelLR, modelDT, modelRF, modelGBT], trainData, validationData)"
   ]
  },
  {
   "cell_type": "code",
   "execution_count": 36,
   "metadata": {},
   "outputs": [
    {
     "name": "stdout",
     "output_type": "stream",
     "text": [
      "{'seed': 7058364393524523576, 'predictionCol': 'prediction', 'labelCol': 'label', 'featuresCol': 'features', 'maxDepth': 5, 'maxBins': 32, 'minInstancesPerNode': 1, 'minInfoGain': 0.0, 'maxMemoryInMB': 256, 'cacheNodeIds': False, 'checkpointInterval': 10, 'lossType': 'logistic', 'maxIter': 20, 'stepSize': 0.1, 'subsamplingRate': 1.0, 'featureSubsetStrategy': 'all'}\n"
     ]
    }
   ],
   "source": [
    "# Tune model\n",
    "modelGBT = GBTClassifier()\n",
    "\n",
    "# Printing all possible parameters\n",
    "print({param[0].name: param[1] for param in modelGBT.extractParamMap().items()})\n",
    "\n",
    "# Build parameters grid\n",
    "parametersGBT = ParamGridBuilder().\\\n",
    "                    addGrid(modelGBT.maxDepth,[5, 10]).\\\n",
    "                    addGrid(modelGBT.stepSize, [0.1,0.01]).\\\n",
    "                    build()\n",
    "\n",
    "# Create evaluator F1\n",
    "evaluator = MulticlassClassificationEvaluator(metricName='f1')\n",
    "\n",
    "# Training\n",
    "crossValidationGbt = CrossValidator(estimator=modelGBT, estimatorParamMaps=parametersGBT, evaluator=evaluator)"
   ]
  },
  {
   "cell_type": "code",
   "execution_count": 38,
   "metadata": {},
   "outputs": [
    {
     "data": {
      "text/plain": [
       "[0.7087478087723571,\n",
       " 0.7099174428755912,\n",
       " 0.7427259968523235,\n",
       " 0.7291706138802494]"
      ]
     },
     "execution_count": 38,
     "metadata": {},
     "output_type": "execute_result"
    }
   ],
   "source": [
    "# Training model and displaying performance\n",
    "crossModelGbt = crossValidationGbt.fit(trainData)\n",
    "crossModelGbt.avgMetrics"
   ]
  },
  {
   "cell_type": "code",
   "execution_count": 43,
   "metadata": {},
   "outputs": [
    {
     "name": "stdout",
     "output_type": "stream",
     "text": [
      "CrossValidatorModel\n",
      "F1 Score Training:  0.9852551984877127\n",
      "F1 Score Validation:  0.7347368421052631\n"
     ]
    }
   ],
   "source": [
    "evaluateModels([crossModelGbt], trainData, validationData)"
   ]
  },
  {
   "cell_type": "markdown",
   "metadata": {},
   "source": [
    "### Conclusions\n",
    "\n",
    "In this project, we looked at the use of PySpark to load, clean, engineer features, and train a model. Using PySpark gives the possibility to handle large volumes of data. The dataset that was used is a sample of a larger dataset that contains the interactions of users in a fictional music service similar to Spotify. Based on their behaviour, we needed to predict whether a user is going to churn or not. \n",
    "\n",
    "#### Feature Engineering\n",
    "\n",
    "After cleaning the data to remove the rows that did not have any user assigned to them, we engineered a new set of features that show the change of behaviour of a user 2 weeks prior to their churn.\n",
    "\n",
    "To achieve this, we set a 'date selection' for each user to extract their data. For the users who churned, this week was their last week using the service. For the users who stayed with Sparkify, the date was a random week. By doing this, we were able to see 2 weeks behaviour of users before they churned and compare it to users that did not churn. The predictions become more precise as we are predicting if a user is likely to churn in a week's time. \n",
    "\n",
    "The reason why I followed this methodology is that simply grouping the variables by user will lead to a bias as users who churned are likely to have less interactions, therefore, we will be including some of the information that happened after the user left into the model.\n",
    "\n",
    "#### Modelling\n",
    "\n",
    "For the modelling, we transformed the features into a vector before standardising them. The column 'label' is the output (churn) and the column 'features' is the features that we engineered. After doing that, the set was split into training, testing, and validation. However, one thing to consider here is that this made the training set even smaller than it already is. \n",
    "\n",
    "We selected a logistic regression, decision tree, random forest, and gradient boosting tree as the models of choice. The best model was a gradient boosting and achieved an F1 score of 85% on the validation set.\n",
    "\n",
    "#### Areas for Improvement\n",
    "\n",
    "Even though the results of the initial runs look promising, we need to take into consideration the number of data points that are used for this. We won't be able to get a good representation until we use the large dataset and train the model. We also need to include the validation set in the cross validation model as the model was overfitting and reached an almost perfect F-score on the training set while dropping the performance on the validation set.\n",
    "\n",
    "Once using the larger data, we might start seeing a decline in the performance as we will have more variance. However, we can tackle this by looking into new models and tune the model even further."
   ]
  },
  {
   "cell_type": "markdown",
   "metadata": {},
   "source": [
    "# Final Steps\n",
    "Clean up your code, adding comments and renaming variables to make the code easier to read and maintain. Refer to the Spark Project Overview page and Data Scientist Capstone Project Rubric to make sure you are including all components of the capstone project and meet all expectations. Remember, this includes thorough documentation in a README file in a Github repository, as well as a web app or blog post."
   ]
  },
  {
   "cell_type": "code",
   "execution_count": null,
   "metadata": {},
   "outputs": [],
   "source": []
  }
 ],
 "metadata": {
  "kernelspec": {
   "display_name": "Python 3",
   "language": "python",
   "name": "python3"
  },
  "language_info": {
   "codemirror_mode": {
    "name": "ipython",
    "version": 3
   },
   "file_extension": ".py",
   "mimetype": "text/x-python",
   "name": "python",
   "nbconvert_exporter": "python",
   "pygments_lexer": "ipython3",
   "version": "3.6.3"
  }
 },
 "nbformat": 4,
 "nbformat_minor": 2
}
